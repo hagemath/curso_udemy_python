{
 "cells": [
  {
   "cell_type": "code",
   "execution_count": 14,
   "metadata": {},
   "outputs": [
    {
     "name": "stdout",
     "output_type": "stream",
     "text": [
      "{'id': 1234, 'Nome': 'Hage', 'Idade': 20, 'Sexo': 'Masculino', 'Caracteristica': 'inteligente'}\n",
      "{'id': 2345, 'Nome': 'Hage', 'Idade': 20, 'Sexo': 'Masculino', 'Caracteristica': 'inteligente'}\n",
      "{'id': 2345, 'Nome': 'Hage', 'Sexo': 'Masculino', 'Caracteristica': 'inteligente'}\n",
      "{'id': 2345, 'Nome': 'Hage', 'Sexo': 'Masculino', 'Caracteristica': 'inteligente'} 20\n",
      "{'id': 2345, 'Nome': 'Hage', 'Sexo': 'Masculino', 'Caracteristica': 'inteligente'} ('Idade', 20)\n",
      "{'id': 2345, 'Nome': 'Hage', 'Sexo': 'Masculino', 'Caracteristica': 'inteligente'}\n"
     ]
    }
   ],
   "source": [
    "#Aprendendo a usar dicionários\n",
    "#adicionando Itens\n",
    "produto = {\"id\": 1234, \"Nome\": \"Hage\", \"Idade\": 20 }\n",
    "produto[\"Sexo\"] = \"Masculino\"\n",
    "produto[\"Caracteristica\"] = \"inteligente\"\n",
    "print(produto)\n",
    "#Atualizar Itens\n",
    "produto[\"id\"] = 2345\n",
    "print(produto)\n",
    "#Remover Item\n",
    "del produto[\"Idade\"]\n",
    "print(produto)\n",
    "\n",
    "produto[\"Idade\"] = 20\n",
    "\n",
    "removendo = produto.pop(\"Idade\")\n",
    "print(produto, removendo)\n",
    "\n",
    "produto[\"Idade\"] = 20\n",
    "rem = produto.popitem()\n",
    "print(produto, rem)\n",
    "\n",
    "#Copiando dicionário\n",
    "c1 = produto.copy()\n",
    "print(c1)"
   ]
  },
  {
   "cell_type": "code",
   "execution_count": null,
   "metadata": {},
   "outputs": [],
   "source": []
  },
  {
   "cell_type": "code",
   "execution_count": null,
   "metadata": {},
   "outputs": [],
   "source": []
  },
  {
   "cell_type": "code",
   "execution_count": 31,
   "metadata": {},
   "outputs": [
    {
     "name": "stdout",
     "output_type": "stream",
     "text": [
      "{'Matricula': 11202321345, 'Nome': 'Matheus Hage', 'Curso': 'Engenharia', 'Semestre': 5, 'CR': 2.7}\n",
      "{'Matricula': 11202321345, 'Nome': 'Matheus Hage', 'Curso': 'Engenharia', 'Semestre': 5, 'CR': 2.7, 'Faculdade': ('UFABC', 'UFRJ', 'USP')}\n",
      "{'Matricula': 11202321345, 'Nome': 'Matheus Hage', 'Curso': 'Engenharia', 'Semestre': 5, 'CR': 3.0, 'Faculdade': ('UFABC', 'UFRJ', 'USP')}\n",
      "{'Nome': 'Matheus Hage', 'Curso': 'Engenharia', 'Semestre': 5, 'CR': 3.0, 'Faculdade': ('UFABC', 'UFRJ', 'USP')}\n",
      "{'Curso': 'Engenharia', 'Semestre': 5, 'CR': 3.0, 'Faculdade': ('UFABC', 'UFRJ', 'USP')} Matheus Hage\n",
      "{'Curso': 'Engenharia', 'Semestre': 5, 'CR': 3.0} ('Faculdade', ('UFABC', 'UFRJ', 'USP'))\n"
     ]
    }
   ],
   "source": [
    "aluno = {\n",
    "    \"Matricula\": 11202321345,\n",
    "    \"Nome\": \"Matheus Hage\",\n",
    "    \"Curso\": \"Engenharia\",\n",
    "    \"Semestre\": 5,\n",
    "    \"CR\": 2.7\n",
    "}\n",
    "\n",
    "print(aluno)\n",
    "aluno[\"Faculdade\"] = \"UFABC\", \"UFRJ\", \"USP\"\n",
    "\n",
    "print(aluno)\n",
    "aluno[\"CR\"] = 3.0\n",
    "\n",
    "print(aluno)\n",
    "del aluno[\"Matricula\"]\n",
    "\n",
    "print(aluno)\n",
    "r1 = aluno.pop(\"Nome\")\n",
    "\n",
    "print(aluno, r1)\n",
    "r2 = aluno.popitem()\n",
    "print(aluno, r2)"
   ]
  },
  {
   "cell_type": "code",
   "execution_count": 27,
   "metadata": {},
   "outputs": [
    {
     "name": "stdout",
     "output_type": "stream",
     "text": [
      "Título O Pequeno Príncipe Autor Antoine de saint-Exupéry Ano 1943 Editora Reynal & Hitchcock Preço 20.5 Chaves do dicionário: ['Título', 'Autor', 'Ano', 'Editora', 'Preço']\n",
      "Valores do dicionário: ['O Pequeno Príncipe', 'Antoine de saint-Exupéry', 1943, 'Reynal & Hitchcock', 20.5]\n",
      "Itens do dicionário: [('Título', 'O Pequeno Príncipe'), ('Autor', 'Antoine de saint-Exupéry'), ('Ano', 1943), ('Editora', 'Reynal & Hitchcock'), ('Preço', 20.5)]\n",
      "{'Título': 'O Pequeno Príncipe', 'Autor': 'Antoine de saint-Exupéry', 'Ano': 1943, 'Editora': 'Reynal & Hitchcock', 'Preço': 30.0, 'Tipo': 'Digital'}\n",
      "\n"
     ]
    }
   ],
   "source": [
    "#metodos de Dicionários\n",
    "livro = { \n",
    "    \"Título\": \"O Pequeno Príncipe\",\n",
    "    \"Autor\": \"Antoine de saint-Exupéry\",\n",
    "    \"Ano\": 1943,\n",
    "    \"Editora\": \"Reynal & Hitchcock\",\n",
    "    \"Preço\": 20.5\n",
    "}\n",
    "for i, a in livro.items():\n",
    "    print(i, end=\" \")\n",
    "    print(a, end=\" \")\n",
    "print(f\"Chaves do dicionário: {list(livro.keys())}\")\n",
    "print(f\"Valores do dicionário: {list(livro.values())}\")\n",
    "print(f\"Itens do dicionário: {list(livro.items())}\")\n",
    "\n",
    "atualizacao = {\n",
    "    \"Preço\": 30.00,\n",
    "    \"Tipo\": \"Digital\"\n",
    "}\n",
    "livro.update(atualizacao)\n",
    "print(livro)\n",
    "print()"
   ]
  },
  {
   "cell_type": "code",
   "execution_count": 55,
   "metadata": {},
   "outputs": [
    {
     "name": "stdout",
     "output_type": "stream",
     "text": [
      "O Pequeno Príncipe\n",
      "\n",
      "Título\n",
      "Autor\n",
      "Ano\n",
      "Editora\n",
      "Preço\n",
      "Tipo\n",
      "\n",
      "O Pequeno Príncipe\n",
      "Antoine de saint-Exupéry\n",
      "1943\n",
      "Reynal & Hitchcock\n",
      "30.0\n",
      "Digital\n"
     ]
    }
   ],
   "source": [
    "nome = livro[\"Título\"]\n",
    "print(nome)\n",
    "print()\n",
    "for i in livro:\n",
    "    print(i)\n",
    "\n",
    "print()\n",
    "for a in livro:\n",
    "    itens = livro[a]\n",
    "    print(itens)\n",
    "print()"
   ]
  },
  {
   "cell_type": "code",
   "execution_count": 23,
   "metadata": {},
   "outputs": [
    {
     "name": "stdout",
     "output_type": "stream",
     "text": [
      "1. Modelo do carro na vaga B2: fit\n",
      "A marca do carro da A1 vai mudar para Honda\n",
      "A1\n",
      "{'marca': 'Honda', 'modelo': 'Renegade', 'dono': 'Hage'}\n",
      "B2\n",
      "{'marca': 'honda', 'modelo': 'fit', 'dono': 'Pedro'}\n",
      "C3\n",
      "{'marca': 'Volks', 'modelo': 'Gol', 'dono': 'Enzo'}\n",
      "D4\n",
      "{'marca': 'Hyundai', 'modelo': 'Creta', 'dono': 'Priscila'}\n"
     ]
    }
   ],
   "source": [
    "estacionamento = { \n",
    "    \"A1\": {\n",
    "        \"marca\": \"Jeep\",\n",
    "        \"modelo\": \"Renegade\",\n",
    "        \"dono\": \"Hage\"\n",
    "    },\n",
    "    \"B2\": {\n",
    "        \"marca\": \"honda\",\n",
    "        \"modelo\": \"fit\",\n",
    "        \"dono\": \"Pedro\"\n",
    "    },\n",
    "    \"C3\": { \n",
    "        \"marca\": \"Volks\",\n",
    "        \"modelo\": \"Gol\",\n",
    "        \"dono\": \"Enzo\"\n",
    "    }\n",
    "}\n",
    "print(f\"1. Modelo do carro na vaga B2: {estacionamento['B2']['modelo']}\")\n",
    "mudanca_marca = estacionamento['A1']['marca'] = 'Honda'\n",
    "print(f\"A marca do carro da A1 vai mudar para {mudanca_marca}\")\n",
    "estacionamento['D4'] = {\n",
    "        \"marca\": \"Hyundai\",\n",
    "        \"modelo\": \"Creta\",\n",
    "        \"dono\": \"Priscila\"\n",
    "}\n",
    "for vaga, carro in estacionamento.items():\n",
    "    print(vaga)\n",
    "    print(carro)"
   ]
  },
  {
   "cell_type": "code",
   "execution_count": 33,
   "metadata": {},
   "outputs": [
    {
     "name": "stdout",
     "output_type": "stream",
     "text": [
      "{1: 1, 2: 4, 3: 9, 4: 16, 5: 25}\n",
      "{1: 'a', 2: 'b', 3: 'c', 4: 'd'}\n"
     ]
    }
   ],
   "source": [
    "quadrado = {x: x**2 for x in range(1,6)}\n",
    "print(quadrado)\n",
    "original = {\"a\": 1, \"b\": 2, \"c\": 3, \"d\": 4}\n",
    "invertido ={}\n",
    "for item, valor in original.items():\n",
    "    invertido[valor] = item\n",
    "print(invertido)"
   ]
  }
 ],
 "metadata": {
  "kernelspec": {
   "display_name": "Python 3",
   "language": "python",
   "name": "python3"
  },
  "language_info": {
   "codemirror_mode": {
    "name": "ipython",
    "version": 3
   },
   "file_extension": ".py",
   "mimetype": "text/x-python",
   "name": "python",
   "nbconvert_exporter": "python",
   "pygments_lexer": "ipython3",
   "version": "3.11.9"
  }
 },
 "nbformat": 4,
 "nbformat_minor": 2
}
