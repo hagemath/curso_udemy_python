{
 "cells": [
  {
   "cell_type": "code",
   "execution_count": 14,
   "metadata": {},
   "outputs": [
    {
     "name": "stdout",
     "output_type": "stream",
     "text": [
      "{'id': 1234, 'Nome': 'Hage', 'Idade': 20, 'Sexo': 'Masculino', 'Caracteristica': 'inteligente'}\n",
      "{'id': 2345, 'Nome': 'Hage', 'Idade': 20, 'Sexo': 'Masculino', 'Caracteristica': 'inteligente'}\n",
      "{'id': 2345, 'Nome': 'Hage', 'Sexo': 'Masculino', 'Caracteristica': 'inteligente'}\n",
      "{'id': 2345, 'Nome': 'Hage', 'Sexo': 'Masculino', 'Caracteristica': 'inteligente'} 20\n",
      "{'id': 2345, 'Nome': 'Hage', 'Sexo': 'Masculino', 'Caracteristica': 'inteligente'} ('Idade', 20)\n",
      "{'id': 2345, 'Nome': 'Hage', 'Sexo': 'Masculino', 'Caracteristica': 'inteligente'}\n"
     ]
    }
   ],
   "source": [
    "#Aprendendo a usar dicionários\n",
    "#adicionando Itens\n",
    "produto = {\"id\": 1234, \"Nome\": \"Hage\", \"Idade\": 20 }\n",
    "produto[\"Sexo\"] = \"Masculino\"\n",
    "produto[\"Caracteristica\"] = \"inteligente\"\n",
    "print(produto)\n",
    "#Atualizar Itens\n",
    "produto[\"id\"] = 2345\n",
    "print(produto)\n",
    "#Remover Item\n",
    "del produto[\"Idade\"]\n",
    "print(produto)\n",
    "\n",
    "produto[\"Idade\"] = 20\n",
    "\n",
    "removendo = produto.pop(\"Idade\")\n",
    "print(produto, removendo)\n",
    "\n",
    "produto[\"Idade\"] = 20\n",
    "rem = produto.popitem()\n",
    "print(produto, rem)\n",
    "\n",
    "#Copiando dicionário\n",
    "c1 = produto.copy()\n",
    "print(c1)"
   ]
  },
  {
   "cell_type": "code",
   "execution_count": 31,
   "metadata": {},
   "outputs": [
    {
     "name": "stdout",
     "output_type": "stream",
     "text": [
      "{'Matricula': 11202321345, 'Nome': 'Matheus Hage', 'Curso': 'Engenharia', 'Semestre': 5, 'CR': 2.7}\n",
      "{'Matricula': 11202321345, 'Nome': 'Matheus Hage', 'Curso': 'Engenharia', 'Semestre': 5, 'CR': 2.7, 'Faculdade': ('UFABC', 'UFRJ', 'USP')}\n",
      "{'Matricula': 11202321345, 'Nome': 'Matheus Hage', 'Curso': 'Engenharia', 'Semestre': 5, 'CR': 3.0, 'Faculdade': ('UFABC', 'UFRJ', 'USP')}\n",
      "{'Nome': 'Matheus Hage', 'Curso': 'Engenharia', 'Semestre': 5, 'CR': 3.0, 'Faculdade': ('UFABC', 'UFRJ', 'USP')}\n",
      "{'Curso': 'Engenharia', 'Semestre': 5, 'CR': 3.0, 'Faculdade': ('UFABC', 'UFRJ', 'USP')} Matheus Hage\n",
      "{'Curso': 'Engenharia', 'Semestre': 5, 'CR': 3.0} ('Faculdade', ('UFABC', 'UFRJ', 'USP'))\n"
     ]
    }
   ],
   "source": [
    "aluno = {\n",
    "    \"Matricula\": 11202321345,\n",
    "    \"Nome\": \"Matheus Hage\",\n",
    "    \"Curso\": \"Engenharia\",\n",
    "    \"Semestre\": 5,\n",
    "    \"CR\": 2.7\n",
    "}\n",
    "\n",
    "print(aluno)\n",
    "aluno[\"Faculdade\"] = \"UFABC\", \"UFRJ\", \"USP\"\n",
    "\n",
    "print(aluno)\n",
    "aluno[\"CR\"] = 3.0\n",
    "\n",
    "print(aluno)\n",
    "del aluno[\"Matricula\"]\n",
    "\n",
    "print(aluno)\n",
    "r1 = aluno.pop(\"Nome\")\n",
    "\n",
    "print(aluno, r1)\n",
    "r2 = aluno.popitem()\n",
    "print(aluno, r2)"
   ]
  },
  {
   "cell_type": "code",
   "execution_count": 51,
   "metadata": {},
   "outputs": [
    {
     "name": "stdout",
     "output_type": "stream",
     "text": [
      "Chaves do dicionário: ['Título', 'Autor', 'Ano', 'Editora', 'Preço']\n",
      "Valores do dicionário: ['O Pequeno Príncipe', 'Antoine de saint-Exupéry', 1943, 'Reynal & Hitchcock', 20.5]\n",
      "Itens do dicionário: [('Título', 'O Pequeno Príncipe'), ('Autor', 'Antoine de saint-Exupéry'), ('Ano', 1943), ('Editora', 'Reynal & Hitchcock'), ('Preço', 20.5)]\n",
      "{'Título': 'O Pequeno Príncipe', 'Autor': 'Antoine de saint-Exupéry', 'Ano': 1943, 'Editora': 'Reynal & Hitchcock', 'Preço': 30.0, 'Tipo': 'Digital'}\n",
      "\n",
      "O Pequeno Príncipe\n",
      "\n",
      "Título\n",
      "Autor\n",
      "Ano\n",
      "Editora\n",
      "Preço\n",
      "Tipo\n"
     ]
    }
   ],
   "source": [
    "#metodos de Dicionários\n",
    "livro = { \n",
    "    \"Título\": \"O Pequeno Príncipe\",\n",
    "    \"Autor\": \"Antoine de saint-Exupéry\",\n",
    "    \"Ano\": 1943,\n",
    "    \"Editora\": \"Reynal & Hitchcock\",\n",
    "    \"Preço\": 20.5\n",
    "}\n",
    "print(f\"Chaves do dicionário: {list(livro.keys())}\")\n",
    "print(f\"Valores do dicionário: {list(livro.values())}\")\n",
    "print(f\"Itens do dicionário: {list(livro.items())}\")\n",
    "\n",
    "atualizacao = {\n",
    "    \"Preço\": 30.00,\n",
    "    \"Tipo\": \"Digital\"\n",
    "}\n",
    "livro.update(atualizacao)\n",
    "print(livro)\n",
    "print()"
   ]
  },
  {
   "cell_type": "code",
   "execution_count": 55,
   "metadata": {},
   "outputs": [
    {
     "name": "stdout",
     "output_type": "stream",
     "text": [
      "O Pequeno Príncipe\n",
      "\n",
      "Título\n",
      "Autor\n",
      "Ano\n",
      "Editora\n",
      "Preço\n",
      "Tipo\n",
      "\n",
      "O Pequeno Príncipe\n",
      "Antoine de saint-Exupéry\n",
      "1943\n",
      "Reynal & Hitchcock\n",
      "30.0\n",
      "Digital\n"
     ]
    }
   ],
   "source": [
    "nome = livro[\"Título\"]\n",
    "print(nome)\n",
    "print()\n",
    "for i in livro:\n",
    "    print(i)\n",
    "\n",
    "print()\n",
    "for a in livro:\n",
    "    itens = livro[a]\n",
    "    print(itens)\n",
    "print()"
   ]
  }
 ],
 "metadata": {
  "kernelspec": {
   "display_name": "Python 3",
   "language": "python",
   "name": "python3"
  },
  "language_info": {
   "codemirror_mode": {
    "name": "ipython",
    "version": 3
   },
   "file_extension": ".py",
   "mimetype": "text/x-python",
   "name": "python",
   "nbconvert_exporter": "python",
   "pygments_lexer": "ipython3",
   "version": "3.11.9"
  }
 },
 "nbformat": 4,
 "nbformat_minor": 2
}
