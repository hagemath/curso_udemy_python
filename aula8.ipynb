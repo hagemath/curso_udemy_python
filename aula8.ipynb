{
 "cells": [
  {
   "cell_type": "code",
   "execution_count": 5,
   "metadata": {},
   "outputs": [
    {
     "name": "stdout",
     "output_type": "stream",
     "text": [
      "A arte da história\n",
      "Sun Tzu\n",
      "989-090980\n",
      "A arte da história\n",
      "Sun Tzu\n",
      "989-090980\n"
     ]
    }
   ],
   "source": [
    "#Tuplas são como as listas mas não podem ser alteradas\n",
    "livro = (\"A arte da história\", \"Sun Tzu\", \"989-090980\")\n",
    "titulo = livro[0]\n",
    "autor = livro[1]\n",
    "isbn = livro[2]\n",
    "print(titulo)\n",
    "print(autor)\n",
    "print(isbn)\n",
    "for i in livro:\n",
    "    print(i)"
   ]
  },
  {
   "cell_type": "code",
   "execution_count": 8,
   "metadata": {},
   "outputs": [
    {
     "name": "stdout",
     "output_type": "stream",
     "text": [
      "('GRU', 'SP')\n",
      "('SAMPA',)\n",
      "('Roma', 'Italia', 5)\n",
      "('NY', 'EUA', 7)\n"
     ]
    }
   ],
   "source": [
    "destino = (\"GRU\", \"SP\")\n",
    "print(destino)\n",
    "destino_indefinido = (\"SAMPA\",)  \n",
    "print(destino_indefinido)\n",
    "destino_2 = \"Roma\", \"Italia\", 5\n",
    "print(destino_2)\n",
    "lista_destino = [\"NY\", \"EUA\", 7]\n",
    "destino3 = tuple(lista_destino)\n",
    "print(destino3)"
   ]
  },
  {
   "cell_type": "code",
   "execution_count": 10,
   "metadata": {},
   "outputs": [
    {
     "name": "stdout",
     "output_type": "stream",
     "text": [
      "Produto: Laptop -- Qunatidade Estoque: 10\n",
      "('Laptop', 10)\n"
     ]
    }
   ],
   "source": [
    "produto = (\"Laptop\", 10, 1500.00)\n",
    "nome = produto[0]\n",
    "quantidade_estoque = produto[1]\n",
    "print(f\"Produto: {nome} -- Qunatidade Estoque: {quantidade_estoque}\")\n",
    "info_relevantes = produto[:2]\n",
    "print(info_relevantes)"
   ]
  },
  {
   "cell_type": "code",
   "execution_count": 16,
   "metadata": {},
   "outputs": [
    {
     "name": "stdout",
     "output_type": "stream",
     "text": [
      "('SMartphone', 1000.0, [2, 3, 4])\n",
      "('SMartphone', 1000.0, [2, 3, 4, 5])\n"
     ]
    }
   ],
   "source": [
    "produto = (\"SMartphone\", 1000.00, [2, 3, 4])\n",
    "print(produto)\n",
    "produto[2].append(5)\n",
    "print(produto)"
   ]
  },
  {
   "cell_type": "code",
   "execution_count": 19,
   "metadata": {},
   "outputs": [
    {
     "name": "stdout",
     "output_type": "stream",
     "text": [
      "(1, 2, 3, 4)\n",
      "(1, 2, 1, 2, 1, 2)\n",
      "True\n"
     ]
    }
   ],
   "source": [
    "a = (1,2)\n",
    "b = (3,4)\n",
    "print(a+b)\n",
    "print(a*3)\n",
    "print(2 in a)"
   ]
  },
  {
   "cell_type": "code",
   "execution_count": 26,
   "metadata": {},
   "outputs": [
    {
     "name": "stdout",
     "output_type": "stream",
     "text": [
      "(1, 2, 3, 4, 1, 2, 1, 2)\n",
      "Quantas vezes = 3\n",
      "Em qual posição = 2\n"
     ]
    }
   ],
   "source": [
    "nova_seq = (a+b)+a*2\n",
    "print(nova_seq)\n",
    "print(f\"Quantas vezes = {nova_seq.count(2)}\")\n",
    "print(f\"Em qual posição = {nova_seq.index(2)+1}\")"
   ]
  },
  {
   "cell_type": "code",
   "execution_count": 28,
   "metadata": {},
   "outputs": [
    {
     "name": "stdout",
     "output_type": "stream",
     "text": [
      "1\n",
      "2\n",
      "3\n"
     ]
    }
   ],
   "source": [
    "a,b,c = (1,2,3)\n",
    "print(a)\n",
    "print(b)\n",
    "print(c)"
   ]
  },
  {
   "cell_type": "code",
   "execution_count": 30,
   "metadata": {},
   "outputs": [
    {
     "name": "stdout",
     "output_type": "stream",
     "text": [
      "joâo 20 85.5\n"
     ]
    }
   ],
   "source": [
    "estudante_info = (\"joâo\", 20, 85.5)\n",
    "nome, idade, media = estudante_info\n",
    "print(nome, idade, media)"
   ]
  },
  {
   "cell_type": "code",
   "execution_count": 32,
   "metadata": {},
   "outputs": [
    {
     "name": "stdout",
     "output_type": "stream",
     "text": [
      "185\n",
      "A\n"
     ]
    }
   ],
   "source": [
    "def analisar_vendas(A, B):\n",
    "    total_vendas = A + B\n",
    "    mais_vendido = \"A\" if A > B else \"B\"\n",
    "    return total_vendas, mais_vendido\n",
    "total, top_produto = analisar_vendas(100, 85)\n",
    "print(total)\n",
    "print(top_produto)\n",
    "#REVER"
   ]
  },
  {
   "cell_type": "code",
   "execution_count": 34,
   "metadata": {},
   "outputs": [
    {
     "name": "stdout",
     "output_type": "stream",
     "text": [
      "Vendas A: 100, Vendas B 90\n",
      "Vendas A: 100, Vendas B 115\n",
      "Vendas A: 105, Vendas B 100\n",
      "180 100\n"
     ]
    }
   ],
   "source": [
    "vendas = [(100,90), (100, 115), (105,100)]\n",
    "for A, B in vendas:\n",
    "    print(f\"Vendas A: {A}, Vendas B {B}\")\n",
    "\n",
    "A = 100\n",
    "B = 180\n",
    "A, B = B, A\n",
    "print(A, B)\n",
    "#REVER"
   ]
  },
  {
   "cell_type": "code",
   "execution_count": 103,
   "metadata": {},
   "outputs": [
    {
     "name": "stdout",
     "output_type": "stream",
     "text": [
      "O total de vendas foi 195 e o mais vendido foi Smarthphone\n",
      "O total de vendas foi 1097 e o mais vendido foi Smarthwatch\n"
     ]
    },
    {
     "data": {
      "text/plain": [
       "(None, None)"
      ]
     },
     "execution_count": 103,
     "metadata": {},
     "output_type": "execute_result"
    }
   ],
   "source": [
    "def resumo_vendas(vendas_smarth, vendas_watch):\n",
    "    total_vendas = vendas_smarth + vendas_watch\n",
    "    mais_vendido = \"Smarthphone\" if vendas_smarth > vendas_watch else \"Smarthwatch\"\n",
    "    print(f\"O total de vendas foi {total_vendas} e o mais vendido foi {mais_vendido}\")\n",
    "resumo_vendas(100, 95), resumo_vendas(188, 909)\n"
   ]
  },
  {
   "cell_type": "code",
   "execution_count": 106,
   "metadata": {},
   "outputs": [
    {
     "name": "stdout",
     "output_type": "stream",
     "text": [
      "190\n",
      "Smarthphone\n"
     ]
    }
   ],
   "source": [
    "def resumo_vendas(vendas_smarth, vendas_watch):\n",
    "    total_vendas = vendas_smarth + vendas_watch\n",
    "    mais_vendido = \"Smarthphone\" if vendas_smarth > vendas_watch else \"Smarthwatch\"\n",
    "    return total_vendas, mais_vendido\n",
    "total, mais_top = resumo_vendas(100, 90)\n",
    "print(total)\n",
    "print(mais_top)"
   ]
  }
 ],
 "metadata": {
  "kernelspec": {
   "display_name": "Python 3",
   "language": "python",
   "name": "python3"
  },
  "language_info": {
   "codemirror_mode": {
    "name": "ipython",
    "version": 3
   },
   "file_extension": ".py",
   "mimetype": "text/x-python",
   "name": "python",
   "nbconvert_exporter": "python",
   "pygments_lexer": "ipython3",
   "version": "3.11.9"
  }
 },
 "nbformat": 4,
 "nbformat_minor": 2
}
