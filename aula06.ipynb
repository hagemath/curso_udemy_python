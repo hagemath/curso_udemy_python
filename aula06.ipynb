{
 "cells": [
  {
   "cell_type": "code",
   "execution_count": 1,
   "metadata": {},
   "outputs": [
    {
     "data": {
      "text/plain": [
       "10"
      ]
     },
     "execution_count": 1,
     "metadata": {},
     "output_type": "execute_result"
    }
   ],
   "source": [
    "def dobrar(n):\n",
    "    return n * 2\n",
    "dobrar(5)"
   ]
  },
  {
   "cell_type": "code",
   "execution_count": 2,
   "metadata": {},
   "outputs": [
    {
     "name": "stdout",
     "output_type": "stream",
     "text": [
      "10\n"
     ]
    }
   ],
   "source": [
    "dobrar_com_lambda = lambda n: n * 2\n",
    "print(dobrar_com_lambda(5))"
   ]
  },
  {
   "cell_type": "code",
   "execution_count": 13,
   "metadata": {},
   "outputs": [
    {
     "name": "stdout",
     "output_type": "stream",
     "text": [
      "Positivo\n",
      "Negativo\n"
     ]
    }
   ],
   "source": [
    "def calssifica_numero(n):\n",
    "    if n < 0:\n",
    "        return \"Negativo\"\n",
    "    elif n == 0:\n",
    "        return \"Zero\"\n",
    "    else:\n",
    "        return \"Positivo\"\n",
    "print(calssifica_numero(1))\n",
    "\n",
    "calssifica_numero_lambda = lambda n: \"Negativo\" if n < 0 else(\"Zero\" if n == 0 else \"Positivo\")\n",
    "print(calssifica_numero_lambda(-3))"
   ]
  },
  {
   "cell_type": "code",
   "execution_count": 18,
   "metadata": {},
   "outputs": [
    {
     "name": "stdout",
     "output_type": "stream",
     "text": [
      "[('Hage', 20), ('Andre', 20), ('joão', 25), ('Pedro', 60)]\n"
     ]
    }
   ],
   "source": [
    "pessoas = [(\"joão\", 25), (\"Hage\", 20), (\"Pedro\", 60), (\"Andre\", 20)]\n",
    "pessoas_ordenadas = sorted(pessoas, key=lambda x : x[1]) #Aqui o key com o lambda, decide qual ele vai colocar em ordem, o nome ou a idade\n",
    "print(pessoas_ordenadas)\n",
    "#REVER"
   ]
  },
  {
   "cell_type": "code",
   "execution_count": 19,
   "metadata": {},
   "outputs": [
    {
     "name": "stdout",
     "output_type": "stream",
     "text": [
      "[2, 4, 6, 8, 10]\n"
     ]
    }
   ],
   "source": [
    "numeros = [1, 2, 3, 4, 5, 6, 7, 8, 9, 10]\n",
    "numeros_pares = list(filter(lambda x : x % 2 == 0, numeros))\n",
    "print(numeros_pares)\n",
    "#REVER"
   ]
  },
  {
   "cell_type": "code",
   "execution_count": 21,
   "metadata": {},
   "outputs": [
    {
     "name": "stdout",
     "output_type": "stream",
     "text": [
      "['Alice', 'Amanda']\n",
      "Alice\n"
     ]
    }
   ],
   "source": [
    "nomes = [\"Alice\", \"Bob\", \"Amanda\", \"Matheus\", \"Hage\"]\n",
    "nomes_a = list(filter(lambda nome : nome[0] == \"A\", nomes))\n",
    "print(nomes_a)\n",
    "#REVER\n"
   ]
  },
  {
   "cell_type": "code",
   "execution_count": 22,
   "metadata": {},
   "outputs": [
    {
     "name": "stdout",
     "output_type": "stream",
     "text": [
      "['Alice', 'Alice']\n"
     ]
    }
   ],
   "source": [
    "nomess = [\"Alice\", \"Bob\", \"Anna\", \"Charlie\", \"Alex\", \"Tom\", \"Alice\"]\n",
    "nomes_alice = list(filter(lambda nome_alice : nome_alice == \"Alice\", nomess))\n",
    "print(nomes_alice)\n",
    "#REVER"
   ]
  },
  {
   "cell_type": "code",
   "execution_count": 23,
   "metadata": {},
   "outputs": [
    {
     "name": "stdout",
     "output_type": "stream",
     "text": [
      "[1, 4, 9, 16, 25]\n"
     ]
    }
   ],
   "source": [
    "numeros_1 = [1, 2, 3, 4, 5]\n",
    "numeros_quadrado = list(map(lambda x : x ** 2, numeros_1))\n",
    "print(numeros_quadrado)\n",
    "#REVER"
   ]
  },
  {
   "cell_type": "code",
   "execution_count": 6,
   "metadata": {},
   "outputs": [
    {
     "name": "stdout",
     "output_type": "stream",
     "text": [
      "[4, 6, 14]\n"
     ]
    }
   ],
   "source": [
    "palavras = [\"maça\", \"banana\", \"pindamonhagaba\"]\n",
    "comprimento = list(map(lambda palavra : len(palavra), palavras))\n",
    "print(comprimento)\n",
    "#REVER"
   ]
  },
  {
   "cell_type": "code",
   "execution_count": 7,
   "metadata": {},
   "outputs": [
    {
     "name": "stdout",
     "output_type": "stream",
     "text": [
      "[5, 15, 21, 23, 25]\n",
      "[25, 225, 441, 529, 625]\n"
     ]
    }
   ],
   "source": [
    "lista_numeros = [2, 5, 8, 10, 12, 15, 18, 21, 23, 25, 28]\n",
    "numeros_impares = list(filter(lambda impar : impar % 2 != 0 , lista_numeros))\n",
    "numeros_quadrado = list(map(lambda quadrado:quadrado ** 2, numeros_impares))\n",
    "print(numeros_impares)\n",
    "print(numeros_quadrado)"
   ]
  },
  {
   "cell_type": "code",
   "execution_count": 9,
   "metadata": {},
   "outputs": [
    {
     "name": "stdout",
     "output_type": "stream",
     "text": [
      "6\n",
      "5\n",
      "4\n",
      "3\n",
      "2\n",
      "1\n",
      "None\n"
     ]
    }
   ],
   "source": [
    "def contagem_regressiva(n):\n",
    "    for r in range (n, 0, -1):\n",
    "        print(r)\n",
    "print(contagem_regressiva(6))\n",
    "\n"
   ]
  },
  {
   "cell_type": "code",
   "execution_count": 15,
   "metadata": {},
   "outputs": [
    {
     "name": "stdout",
     "output_type": "stream",
     "text": [
      "120\n"
     ]
    }
   ],
   "source": [
    "def fatorial(f):\n",
    "    if f == 0:\n",
    "        return 1\n",
    "    else:\n",
    "        return f*fatorial(f-1)\n",
    "print(fatorial(5))\n",
    "#REVER"
   ]
  },
  {
   "cell_type": "code",
   "execution_count": 10,
   "metadata": {},
   "outputs": [
    {
     "name": "stdout",
     "output_type": "stream",
     "text": [
      "5040\n"
     ]
    }
   ],
   "source": [
    "def fatorial(g):\n",
    "    contagem = g\n",
    "    numero = g\n",
    "    while contagem > 1:\n",
    "        contagem -= 1\n",
    "        numero *= (g-1)\n",
    "        g -= 1\n",
    "    return print(numero)\n",
    "fatorial(7)\n",
    "    \n"
   ]
  }
 ],
 "metadata": {
  "kernelspec": {
   "display_name": "Python 3",
   "language": "python",
   "name": "python3"
  },
  "language_info": {
   "codemirror_mode": {
    "name": "ipython",
    "version": 3
   },
   "file_extension": ".py",
   "mimetype": "text/x-python",
   "name": "python",
   "nbconvert_exporter": "python",
   "pygments_lexer": "ipython3",
   "version": "3.11.9"
  }
 },
 "nbformat": 4,
 "nbformat_minor": 2
}
