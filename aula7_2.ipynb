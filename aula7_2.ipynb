{
 "cells": [
  {
   "cell_type": "code",
   "execution_count": 6,
   "metadata": {},
   "outputs": [
    {
     "name": "stdout",
     "output_type": "stream",
     "text": [
      "[0, 1, 4, 9, 16, 25, 36, 49, 64, 81, 100]\n",
      "[0, 4, 16, 36, 64, 100]\n",
      "[0.0, 1.0, 2.0, 3.0, 4.0, 5.0, 6.0, 7.0, 8.0, 9.0, 10.0]\n"
     ]
    }
   ],
   "source": [
    "quadrados = [x**2 for x in range(11)]\n",
    "print(quadrados)\n",
    "par = list(filter(lambda y : y % 2 == 0, quadrados))\n",
    "print(par)\n",
    "raiz = list(map(lambda h : h**0.5, quadrados))\n",
    "print(raiz)\n",
    "#REVER"
   ]
  },
  {
   "cell_type": "code",
   "execution_count": 8,
   "metadata": {},
   "outputs": [
    {
     "name": "stdout",
     "output_type": "stream",
     "text": [
      "A Fruta 1 é maçã\n",
      "A Fruta 2 é banana\n",
      "A Fruta 3 é cereja\n",
      "A Fruta 4 é damasco\n",
      "A Fruta 5 é figo\n"
     ]
    }
   ],
   "source": [
    "frutas = [\"maçã\", \"banana\", \"cereja\", \"damasco\", \"figo\"]\n",
    "for indice, fruta in enumerate(frutas):\n",
    "    print(f\"A Fruta {indice+1} é {fruta}\")\n",
    "#REVER"
   ]
  },
  {
   "cell_type": "code",
   "execution_count": null,
   "metadata": {},
   "outputs": [],
   "source": []
  }
 ],
 "metadata": {
  "kernelspec": {
   "display_name": "Python 3",
   "language": "python",
   "name": "python3"
  },
  "language_info": {
   "codemirror_mode": {
    "name": "ipython",
    "version": 3
   },
   "file_extension": ".py",
   "mimetype": "text/x-python",
   "name": "python",
   "nbconvert_exporter": "python",
   "pygments_lexer": "ipython3",
   "version": "3.11.9"
  }
 },
 "nbformat": 4,
 "nbformat_minor": 2
}
