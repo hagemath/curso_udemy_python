{
 "cells": [
  {
   "cell_type": "code",
   "execution_count": 6,
   "metadata": {},
   "outputs": [
    {
     "name": "stdout",
     "output_type": "stream",
     "text": [
      "[85, 90, 78, 92, 88]\n",
      "<class 'list'>\n",
      "[100, 2, 30]\n"
     ]
    }
   ],
   "source": [
    "notas_aluno = [85, 90, 78, 92, 88]\n",
    "print(notas_aluno)\n",
    "print(type(notas_aluno))\n",
    "lista = [1, 2, 3]\n",
    "lista[0]=100\n",
    "lista[2] = 30\n",
    "print(lista)"
   ]
  },
  {
   "cell_type": "code",
   "execution_count": 8,
   "metadata": {},
   "outputs": [
    {
     "name": "stdout",
     "output_type": "stream",
     "text": [
      "maçã\n",
      "damasco\n"
     ]
    }
   ],
   "source": [
    "frutas = [\"maçã\", \"banana\", \"cereja\", \"damasco\"]\n",
    "print(frutas[0])\n",
    "print(frutas[-1])"
   ]
  },
  {
   "cell_type": "code",
   "execution_count": 11,
   "metadata": {},
   "outputs": [
    {
     "name": "stdout",
     "output_type": "stream",
     "text": [
      "maçã\n",
      "cereja\n",
      "figo\n",
      "damasco\n"
     ]
    }
   ],
   "source": [
    "frutas = [\"maçã\", \"banana\", \"cereja\", \"damasco\", \"figo\"]\n",
    "print(frutas[0]) #imprima a primeira fruta\n",
    "print(frutas[2]) #imprimindo o terceiro item\n",
    "print(frutas[-1]) #imprimiindo o ultimo item\n",
    "print(frutas[-2]) #imprime a penultima fruta"
   ]
  },
  {
   "cell_type": "code",
   "execution_count": 16,
   "metadata": {},
   "outputs": [
    {
     "name": "stdout",
     "output_type": "stream",
     "text": [
      "['maçã', 'banana']\n"
     ]
    }
   ],
   "source": [
    "frutas = [\"maçã\", \"banana\"]\n",
    "frutas.append(\"Figo\") #adiciona um item\n",
    "frutas.insert(1, \"Abacate\")  #insere no lugar especifico\n",
    "frutas.remove(\"Abacate\")\n",
    "frutas.pop(2) #remove um item especifico, mas se n colocar nenhum valor, ele remove o ultimo\n",
    "\n",
    "print(frutas)"
   ]
  },
  {
   "cell_type": "code",
   "execution_count": 22,
   "metadata": {},
   "outputs": [
    {
     "name": "stdout",
     "output_type": "stream",
     "text": [
      "['a', 'b', 'a', 'b', 'a', 'b']\n",
      "[1, 2, 3, 4, 5, 6]\n",
      "[1, 2, 3, 4, 5, 6]\n",
      "False\n",
      "True\n"
     ]
    }
   ],
   "source": [
    "lista1 = [1, 2, 3]\n",
    "lista2 = [4, 5, 6]\n",
    "repeticao = [\"a\", \"b\"]\n",
    "uniao = lista1 + lista2\n",
    "lista1.extend(lista2)\n",
    "print(repeticao * 3)\n",
    "print(lista1)\n",
    "print(uniao)\n",
    "print(\"banana\" in lista1)\n",
    "print(2 in lista1)"
   ]
  },
  {
   "cell_type": "code",
   "execution_count": 39,
   "metadata": {},
   "outputs": [
    {
     "name": "stdout",
     "output_type": "stream",
     "text": [
      "['gato', 'cachorro', 'pássaro']\n",
      "['cachorro', 'pássaro']\n",
      "['cachorro', 'pássaro', 'tartaruga', 'hamster']\n",
      "['cachorro', 'pássaro', 'tartaruga', 'hamster', 'cachorro', 'pássaro', 'tartaruga', 'hamster']\n",
      "Cachorro está na lista\n"
     ]
    }
   ],
   "source": [
    "animais = [\"gato\", \"cachorro\", \"pássaro\"]\n",
    "novos_animais = [\"tartaruga\", \"hamster\"]\n",
    "print(animais)\n",
    "animais.remove(\"gato\")\n",
    "animais.insert(2, \"peixe\")\n",
    "animal_removido = animais.pop()\n",
    "todos_animais = animais + novos_animais\n",
    "print(animais)\n",
    "print(todos_animais)\n",
    "print(todos_animais * 2)\n",
    "if \"cachorro\" in todos_animais:\n",
    "    print(\"Cachorro está na lista\")"
   ]
  },
  {
   "cell_type": "code",
   "execution_count": 49,
   "metadata": {},
   "outputs": [
    {
     "name": "stdout",
     "output_type": "stream",
     "text": [
      "3\n",
      "[45, 23, 12, 6, 1]\n"
     ]
    }
   ],
   "source": [
    "numeros = [23, 1, 45, 6, 12]\n",
    "frutas = [\"banana\", \"maçã\", \"banana\", \"cereja\", \"maçã\", \"damasco\"]\n",
    "\n",
    "numeros.sort() #ordem crescente\n",
    "numeros.reverse() #inverte a ordem\n",
    "a = numeros.count(23)#quantas vexes aparece\n",
    "b = numeros.index(6)#em qual lugar aparece\n",
    "print(b)\n",
    "print(numeros)"
   ]
  },
  {
   "cell_type": "code",
   "execution_count": 54,
   "metadata": {},
   "outputs": [
    {
     "name": "stdout",
     "output_type": "stream",
     "text": [
      "2\n",
      "0\n",
      "[11, 11, 23, 23, 34, 45, 56, 78, 89, 90]\n",
      "O numero 100 não esta na lista\n"
     ]
    }
   ],
   "source": [
    "valores = [23, 11, 89, 34, 11, 56, 78, 90, 23, 45,]\n",
    "valores.sort()\n",
    "valores.reverse()\n",
    "valores.reverse()\n",
    "a = valores.count(11)\n",
    "b = valores.index(11)\n",
    "print(a)\n",
    "print(b)\n",
    "print(valores)\n",
    "try:\n",
    "    indice_n_existe = valores.index(100)\n",
    "    print(indice_n_existe)\n",
    "except:\n",
    "    print(\"O numero 100 não esta na lista\")"
   ]
  },
  {
   "cell_type": "code",
   "execution_count": 60,
   "metadata": {},
   "outputs": [
    {
     "name": "stdout",
     "output_type": "stream",
     "text": [
      "[2, 4, 6]\n",
      "[0, 2, 4, 6, 8]\n",
      "[0, 1]\n",
      "[1, 2, 3]\n"
     ]
    }
   ],
   "source": [
    "minha_lista = [0, 1, 2, 3, 4, 5, 6, 7, 8, 9]\n",
    "sub = minha_lista[1:4] #retorna do intervalo 1 a 3\n",
    "primeiros = minha_lista[:2] #retorna os 2 primeiros elementos da lista\n",
    "elementos_alternados = minha_lista[::2] #Pula os itens da lista de 2 em 2\n",
    "subconjunto_alternado = minha_lista[2:8:2] #Retorna do 2 ao 8 pulando de 2 em 2\n",
    "print(subconjunto_alternado)\n",
    "print(elementos_alternados)\n",
    "print(primeiros)\n",
    "print(sub)\n"
   ]
  },
  {
   "cell_type": "code",
   "execution_count": 66,
   "metadata": {},
   "outputs": [
    {
     "name": "stdout",
     "output_type": "stream",
     "text": [
      "['verde', 'azul']\n",
      "['vermelho', 'verde']\n",
      "['amarelo', 'laranja', 'roxo', 'marrom', 'cinza']\n",
      "['vermelho', 'azul', 'laranja', 'marrom']\n",
      "['cinza', 'marrom', 'roxo', 'laranja', 'amarelo', 'azul', 'verde', 'vermelho']\n"
     ]
    }
   ],
   "source": [
    "cores = [\"vermelho\", \"verde\", \"azul\", \"amarelo\", \"laranja\", \"roxo\", \"marrom\", \"cinza\"]\n",
    "subconjunto1 = cores[1:3]\n",
    "print(subconjunto1)\n",
    "primeiros2 = cores[:2]\n",
    "print(primeiros2)\n",
    "todas = cores[3:]\n",
    "print(todas)\n",
    "impares = cores[::2]\n",
    "print(impares)\n",
    "cores.reverse()\n",
    "print(cores)"
   ]
  },
  {
   "cell_type": "code",
   "execution_count": 69,
   "metadata": {},
   "outputs": [
    {
     "name": "stdout",
     "output_type": "stream",
     "text": [
      "[0, 1, 4, 9, 16, 25, 36, 49, 64, 81]\n",
      "[0, 4, 16, 36, 64]\n",
      "[(1, 4), (2, 3), (3, 2), (4, 1)]\n"
     ]
    }
   ],
   "source": [
    "quadrados = [x**2 for x in range(10)]\n",
    "print(quadrados)\n",
    "quadrados_pares = [x**2 for x in range(10) if x % 2 == 0]\n",
    "print(quadrados_pares)\n",
    "a = [1, 2, 3, 4]\n",
    "b = [1, 2, 3, 4]\n",
    "combinacoes = [(x,y) for x in a for y in b if x+y == 5]\n",
    "print(combinacoes)"
   ]
  },
  {
   "cell_type": "code",
   "execution_count": 77,
   "metadata": {},
   "outputs": [
    {
     "name": "stdout",
     "output_type": "stream",
     "text": [
      "[0, 1, 8, 27, 64, 125, 216, 343, 512, 729]\n",
      "[0, 3, 6, 9, 12, 15, 18]\n",
      "['banana', 'abacaxi', 'laranja']\n",
      "[76, 78, 80, 82, 89, 90, 92, 99]\n"
     ]
    }
   ],
   "source": [
    "lista_cubo = [y**3 for y in range(10)]\n",
    "print(lista_cubo)\n",
    "lista_divisivel = [z for z in range(20) if z % 3 == 0]\n",
    "print(lista_divisivel)\n",
    "frutas = [\"maçã\", \"banana\", \"manga\", \"uva\", \"abacaxi\", \"laranja\"]\n",
    "frutas_5 = [x for x in frutas if len(x) > 5]\n",
    "print(frutas_5)\n",
    "notas = [89, 92, 56, 78, 45, 34, 90, 99, 65, 76, 80, 82]\n",
    "notas_75 = [x for x in notas if x > 75]\n",
    "notas_75.sort()\n",
    "print(notas_75)"
   ]
  },
  {
   "cell_type": "code",
   "execution_count": 81,
   "metadata": {},
   "outputs": [
    {
     "name": "stdout",
     "output_type": "stream",
     "text": [
      "5\n",
      "1 2 3 4 5 6 7 8 9 [[1, 2, 3], [4, 5, 6], [7, 8, 9]]\n"
     ]
    }
   ],
   "source": [
    "matriz = [\n",
    "    [1, 2, 3],\n",
    "    [4, 5, 6],\n",
    "    [7, 8, 9]\n",
    "]\n",
    "elemento = matriz[1][1]\n",
    "print(elemento)\n",
    "for linha in matriz:\n",
    "    for numero in linha:\n",
    "        print(numero, end=' ')\n",
    "transposta = []\n",
    "for i in range(len(matriz[0])):\n",
    "    linha_temporaria = []\n",
    "    for j in range(len(matriz)):\n",
    "        linha_temporaria.append(matriz[i][j])\n",
    "    transposta.append(linha_temporaria)\n",
    "print(transposta)"
   ]
  },
  {
   "cell_type": "code",
   "execution_count": 88,
   "metadata": {},
   "outputs": [
    {
     "name": "stdout",
     "output_type": "stream",
     "text": [
      "6\n",
      "45\n",
      "Matriz: \n",
      "1\t2\t3\t\n",
      "4\t5\t6\t\n",
      "7\t8\t9\t\n"
     ]
    }
   ],
   "source": [
    "matriz = [\n",
    "    [1, 2, 3],\n",
    "    [4, 5, 6],\n",
    "    [7, 8, 9]\n",
    "]\n",
    "elemento = matriz[1][2]\n",
    "print(elemento)\n",
    "soma = 0\n",
    "for linha in matriz:\n",
    "    for coluna in linha:\n",
    "        soma += coluna\n",
    "print(soma)\n",
    "print(\"Matriz: \")\n",
    "for linha in matriz:\n",
    "    for numero in linha:\n",
    "        print(numero, end=\"\\t\")\n",
    "    print()\n",
    "#REVER"
   ]
  },
  {
   "cell_type": "code",
   "execution_count": 92,
   "metadata": {},
   "outputs": [
    {
     "name": "stdout",
     "output_type": "stream",
     "text": [
      "55\n",
      "7\n",
      "15\n",
      "2\n",
      "[6, 3, 8, 15, 2, 7, 14]\n"
     ]
    }
   ],
   "source": [
    "numeros = [6, 3, 8, 15, 2, 7, 14]\n",
    "tamanho = len(numeros)\n",
    "maximo = max(numeros)\n",
    "minimo = min(numeros)\n",
    "soma = sum(numeros)\n",
    "print(soma)\n",
    "print(tamanho)\n",
    "print(maximo)\n",
    "print(minimo)\n",
    "print(numeros)"
   ]
  },
  {
   "cell_type": "code",
   "execution_count": 93,
   "metadata": {},
   "outputs": [
    {
     "name": "stdout",
     "output_type": "stream",
     "text": [
      "10\n",
      "90\n",
      "12\n",
      "550\n",
      "55.0\n"
     ]
    }
   ],
   "source": [
    "valores = [23, 45, 67, 89, 12, 56, 78, 90, 34, 56]\n",
    "tamanho = len(valores)\n",
    "maior = max(valores)\n",
    "minimo = min(valores)\n",
    "soma = sum(valores)\n",
    "media = sum(valores)/len(valores)\n",
    "print(tamanho)\n",
    "print(maior)\n",
    "print(minimo)\n",
    "print(soma)\n",
    "print(media)"
   ]
  },
  {
   "cell_type": "code",
   "execution_count": 97,
   "metadata": {},
   "outputs": [
    {
     "name": "stdout",
     "output_type": "stream",
     "text": [
      "maçã\n",
      "banana\n",
      "cereja\n",
      "damasco\n",
      "figo\n",
      "Fruta no índice 0 é maçã\n",
      "Fruta no índice 1 é banana\n",
      "Fruta no índice 2 é cereja\n",
      "Fruta no índice 3 é damasco\n",
      "Fruta no índice 4 é figo\n"
     ]
    }
   ],
   "source": [
    "frutas = [\"maçã\", \"banana\", \"cereja\", \"damasco\", \"figo\"]\n",
    "for fruta in frutas:\n",
    "    print(fruta)\n",
    "for indice, fruta in enumerate(frutas):\n",
    "    print(f\"Fruta no índice {indice} é {fruta}\")\n",
    "#REVER"
   ]
  },
  {
   "cell_type": "code",
   "execution_count": 98,
   "metadata": {},
   "outputs": [
    {
     "name": "stdout",
     "output_type": "stream",
     "text": [
      "Nome no índice 0 é Alice\n",
      "Nome no índice 1 é Bruno\n",
      "Nome no índice 2 é Clara\n",
      "Nome no índice 3 é Daniel\n",
      "Nome no índice 4 é Eduarda\n"
     ]
    }
   ],
   "source": [
    "nomes = [\"Alice\", \"Bruno\", \"Clara\", \"Daniel\", \"Eduarda\"]\n",
    "notas = [85, 90, 78, 92, 88]\n",
    "for indice, nome in enumerate(nomes):\n",
    "    print(f\"Nome no índice {indice} é {nome}\")\n"
   ]
  },
  {
   "cell_type": "code",
   "execution_count": 101,
   "metadata": {},
   "outputs": [
    {
     "name": "stdout",
     "output_type": "stream",
     "text": [
      "Alice obteve a nota 89\n",
      "Bruno obteve a nota 92\n",
      "Clara obteve a nota 56\n",
      "Daniel obteve a nota 78\n",
      "Eduarda obteve a nota 45\n"
     ]
    }
   ],
   "source": [
    "for indice, nome in enumerate(nomes):\n",
    "    print(f\"{nome} obteve a nota {notas[indice]}\")\n",
    "#REVER"
   ]
  },
  {
   "cell_type": "code",
   "execution_count": 102,
   "metadata": {},
   "outputs": [
    {
     "name": "stdout",
     "output_type": "stream",
     "text": [
      "Lista de caracteres: ['P', 'y', 't', 'h', 'o', 'n']\n",
      "Lista de palavras: ['Aprendendo', 'Python', 'é', 'divertido!']\n",
      "Frase resconstruída: Aprendendo Python é divertido!\n"
     ]
    }
   ],
   "source": [
    "palavra = \"Python\"\n",
    "\n",
    "lista_palavra = list(palavra)\n",
    "\n",
    "print(\"Lista de caracteres:\", lista_palavra)\n",
    "\n",
    "frase = \"Aprendendo Python é divertido!\"\n",
    "\n",
    "lista_palavras = frase.split()\n",
    "\n",
    "print(\"Lista de palavras:\", lista_palavras)\n",
    "\n",
    "frase_recontruida = \" \".join(lista_palavras)\n",
    "\n",
    "print(\"Frase resconstruída:\", frase_recontruida)"
   ]
  }
 ],
 "metadata": {
  "kernelspec": {
   "display_name": "Python 3",
   "language": "python",
   "name": "python3"
  },
  "language_info": {
   "codemirror_mode": {
    "name": "ipython",
    "version": 3
   },
   "file_extension": ".py",
   "mimetype": "text/x-python",
   "name": "python",
   "nbconvert_exporter": "python",
   "pygments_lexer": "ipython3",
   "version": "3.11.9"
  }
 },
 "nbformat": 4,
 "nbformat_minor": 2
}
