{
 "cells": [
  {
   "cell_type": "code",
   "execution_count": 2,
   "metadata": {},
   "outputs": [
    {
     "name": "stdout",
     "output_type": "stream",
     "text": [
      "8\n"
     ]
    }
   ],
   "source": [
    "def soma(a, b):\n",
    "    return a + b\n",
    "print(f'{soma(3, 5)}')"
   ]
  },
  {
   "cell_type": "code",
   "execution_count": 6,
   "metadata": {},
   "outputs": [
    {
     "name": "stdout",
     "output_type": "stream",
     "text": [
      "Olá, Hage ! Seja bem-vindo\n",
      "None\n"
     ]
    }
   ],
   "source": [
    "def saudacao(nome):\n",
    "    return print(f'Olá, {nome}! Seja bem-vindo')\n",
    "print(f\"{saudacao('Hage')}\")\n"
   ]
  },
  {
   "cell_type": "code",
   "execution_count": 7,
   "metadata": {},
   "outputs": [
    {
     "name": "stdout",
     "output_type": "stream",
     "text": [
      "Nome: Maria\n",
      "Idade: 30\n",
      "Cidade: SP\n",
      "Nome: João\n",
      "Idade: 20\n",
      "Cidade: Desconhecida\n"
     ]
    }
   ],
   "source": [
    "#Argumentos defaut e non-defaut\n",
    "def exibir_infromacoes(nome, idade, cidade=\"Desconhecida\"):\n",
    "    print(f\"Nome: {nome}\")\n",
    "    print(f\"Idade: {idade}\")\n",
    "    print(f\"Cidade: {cidade}\")\n",
    "exibir_infromacoes(\"Maria\", 30, \"SP\")\n",
    "exibir_infromacoes(\"João\", 20)"
   ]
  },
  {
   "cell_type": "code",
   "execution_count": 10,
   "metadata": {},
   "outputs": [
    {
     "name": "stdout",
     "output_type": "stream",
     "text": [
      "20\n"
     ]
    }
   ],
   "source": [
    "#Vários argumentos *args com números\n",
    "def soma_todos (*args):\n",
    "    resultado = sum(args)\n",
    "    return resultado\n",
    "total = soma_todos(2, 3, 4, 5, 6)\n",
    "print(total)"
   ]
  }
 ],
 "metadata": {
  "kernelspec": {
   "display_name": "Python 3",
   "language": "python",
   "name": "python3"
  },
  "language_info": {
   "codemirror_mode": {
    "name": "ipython",
    "version": 3
   },
   "file_extension": ".py",
   "mimetype": "text/x-python",
   "name": "python",
   "nbconvert_exporter": "python",
   "pygments_lexer": "ipython3",
   "version": "3.11.9"
  }
 },
 "nbformat": 4,
 "nbformat_minor": 2
}
