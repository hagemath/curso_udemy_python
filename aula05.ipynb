{
 "cells": [
  {
   "cell_type": "code",
   "execution_count": 2,
   "metadata": {},
   "outputs": [
    {
     "name": "stdout",
     "output_type": "stream",
     "text": [
      "8\n"
     ]
    }
   ],
   "source": [
    "def soma(a, b):\n",
    "    return a + b\n",
    "print(f'{soma(3, 5)}')"
   ]
  },
  {
   "cell_type": "code",
   "execution_count": 6,
   "metadata": {},
   "outputs": [
    {
     "name": "stdout",
     "output_type": "stream",
     "text": [
      "Olá, Hage ! Seja bem-vindo\n",
      "None\n"
     ]
    }
   ],
   "source": [
    "def saudacao(nome):\n",
    "    return print(f'Olá, {nome}! Seja bem-vindo')\n",
    "print(f\"{saudacao('Hage')}\")\n"
   ]
  },
  {
   "cell_type": "code",
   "execution_count": 7,
   "metadata": {},
   "outputs": [
    {
     "name": "stdout",
     "output_type": "stream",
     "text": [
      "Nome: Maria\n",
      "Idade: 30\n",
      "Cidade: SP\n",
      "Nome: João\n",
      "Idade: 20\n",
      "Cidade: Desconhecida\n"
     ]
    }
   ],
   "source": [
    "#Argumentos defaut e non-defaut\n",
    "def exibir_infromacoes(nome, idade, cidade=\"Desconhecida\"):\n",
    "    print(f\"Nome: {nome}\")\n",
    "    print(f\"Idade: {idade}\")\n",
    "    print(f\"Cidade: {cidade}\")\n",
    "exibir_infromacoes(\"Maria\", 30, \"SP\")\n",
    "exibir_infromacoes(\"João\", 20)"
   ]
  },
  {
   "cell_type": "code",
   "execution_count": 11,
   "metadata": {},
   "outputs": [
    {
     "name": "stdout",
     "output_type": "stream",
     "text": [
      "None\n"
     ]
    }
   ],
   "source": [
    "#Vários argumentos *args com números\n",
    "def soma_todos (*args):\n",
    "    resultado = sum(args)\n",
    "    return resultado\n",
    "total = soma_todos(2, 3, 4, 5, 6)\n",
    "print(total)"
   ]
  },
  {
   "cell_type": "code",
   "execution_count": 30,
   "metadata": {},
   "outputs": [
    {
     "data": {
      "text/plain": [
       "(2.0, 3, 1)"
      ]
     },
     "execution_count": 30,
     "metadata": {},
     "output_type": "execute_result"
    }
   ],
   "source": [
    "def estatisticas(*dados):\n",
    "    media = sum(dados)/len(dados)\n",
    "    maior = max(dados)\n",
    "    menor = min(dados)\n",
    "    return media, maior, menor\n",
    "\n",
    "numeros = list(map(int, input(\"Digite seus números com espaços: \").split( )))\n",
    "\n",
    "estatisticas(*numeros)\n",
    "#REVER"
   ]
  },
  {
   "cell_type": "code",
   "execution_count": 34,
   "metadata": {},
   "outputs": [
    {
     "name": "stdout",
     "output_type": "stream",
     "text": [
      "Nome: Hage\n",
      "Idade: 20\n",
      "Cidade: Guaruhos\n"
     ]
    }
   ],
   "source": [
    "def exibir_informacoes(**kwargs):\n",
    "#função que exibe informações pessoais -> ESTUDARRRRRR\n",
    "    for chave, valor in kwargs.items():\n",
    "        print(f\"{chave}: {str(valor)}\")\n",
    "exibir_informacoes(Nome = \"Hage\",Idade = 20, Cidade = \"Guaruhos\")\n",
    "#REVER"
   ]
  },
  {
   "cell_type": "code",
   "execution_count": 39,
   "metadata": {},
   "outputs": [
    {
     "name": "stdout",
     "output_type": "stream",
     "text": [
      "1\n",
      "2\n"
     ]
    }
   ],
   "source": [
    "contador = 0\n",
    "def adicionar_contador():\n",
    "    global contador\n",
    "    contador += 1\n",
    "    print(contador)\n",
    "adicionar_contador()\n",
    "adicionar_contador()\n",
    "#REVER "
   ]
  },
  {
   "cell_type": "code",
   "execution_count": 42,
   "metadata": {},
   "outputs": [
    {
     "name": "stdout",
     "output_type": "stream",
     "text": [
      "Eu fui modificada pela funçao interna\n"
     ]
    }
   ],
   "source": [
    "def funcao_externa():\n",
    "    variavel_externa = \"Eu sou externa\"\n",
    "    def funcao_interna():\n",
    "        nonlocal variavel_externa\n",
    "        variavel_externa = \"Eu fui modificada pela funçao interna\"\n",
    "        print(variavel_externa)\n",
    "    funcao_interna()    \n",
    "funcao_externa()\n",
    "#REVER "
   ]
  },
  {
   "cell_type": "code",
   "execution_count": 5,
   "metadata": {},
   "outputs": [
    {
     "name": "stdout",
     "output_type": "stream",
     "text": [
      "Mudei você\n"
     ]
    }
   ],
   "source": [
    "def var_externa():\n",
    "    variavel_externa = \"Eu sou a variavel externa\"\n",
    "    def var_interna():\n",
    "        nonlocal variavel_externa\n",
    "        variavel_externa = \"Mudei você\"\n",
    "        print(variavel_externa)\n",
    "    var_interna()\n",
    "var_externa()"
   ]
  },
  {
   "cell_type": "code",
   "execution_count": 1,
   "metadata": {},
   "outputs": [
    {
     "data": {
      "text/plain": [
       "2"
      ]
     },
     "execution_count": 1,
     "metadata": {},
     "output_type": "execute_result"
    }
   ],
   "source": [
    "contador = 0\n",
    "def adicionar_cont():\n",
    "    global contador\n",
    "    contador += 1\n",
    "    return contador\n",
    "adicionar_cont()\n",
    "adicionar_cont()"
   ]
  },
  {
   "cell_type": "code",
   "execution_count": 3,
   "metadata": {},
   "outputs": [
    {
     "name": "stdout",
     "output_type": "stream",
     "text": [
      "Nome: Hage\n",
      "Idade: 20\n",
      "Cidade: Guarulhos\n"
     ]
    }
   ],
   "source": [
    "def pii(**kwards):\n",
    "    for dado, iformacao in kwards.items():\n",
    "        print(f\"{dado}: {iformacao}\")\n",
    "pii(Nome = \"Hage\", Idade = 20, Cidade = \"Guarulhos\")"
   ]
  },
  {
   "cell_type": "code",
   "execution_count": 4,
   "metadata": {},
   "outputs": [
    {
     "data": {
      "text/plain": [
       "(2.0, 3, 1)"
      ]
     },
     "execution_count": 4,
     "metadata": {},
     "output_type": "execute_result"
    }
   ],
   "source": [
    "def estaticamente (*dados):\n",
    "    media = sum(dados)/len(dados)\n",
    "    maximo = max(dados)\n",
    "    minimo = min(dados) \n",
    "    return media, maximo, minimo\n",
    "numeross = list(map(int, input(\"Digite os seus números: \").split(\" \")))\n",
    "estaticamente(*numeross)"
   ]
  },
  {
   "cell_type": "code",
   "execution_count": 5,
   "metadata": {},
   "outputs": [
    {
     "name": "stdout",
     "output_type": "stream",
     "text": [
      "Olá, hage\n"
     ]
    }
   ],
   "source": [
    "def saudacao(nome):\n",
    "    return print(f\"Olá, {nome}\")\n",
    "saudacao(\"hage\")\n"
   ]
  },
  {
   "cell_type": "code",
   "execution_count": 6,
   "metadata": {},
   "outputs": [
    {
     "name": "stdout",
     "output_type": "stream",
     "text": [
      "Olá, Hage!\n",
      "Olá! Hage\n",
      "None\n"
     ]
    }
   ],
   "source": [
    "def saudacao(nome):\n",
    "    return f\"Olá, {nome}!\"\n",
    "def compri(funcao, nome):\n",
    "    return funcao(nome)\n",
    "print(compri(saudacao, \"Hage\"))\n",
    "#REVER\n",
    "def saudacao(nome):\n",
    "    return print(f\"Olá! {nome}\")\n",
    "def compri(funcao, nome):\n",
    "    return funcao(nome)\n",
    "print(compri(saudacao, \"Hage\"))"
   ]
  },
  {
   "cell_type": "code",
   "execution_count": 17,
   "metadata": {},
   "outputs": [
    {
     "name": "stdout",
     "output_type": "stream",
     "text": [
      "Oi!\n",
      "Olá, como você está?\n"
     ]
    }
   ],
   "source": [
    "def nivel_saudacao(nivel):\n",
    "\n",
    "    def saudacao_basica():\n",
    "        return \"Oi!\"\n",
    "    \n",
    "    def saudacao_avancada():\n",
    "        return \"Olá, como você está?\"\n",
    "    \n",
    "    if nivel == \"basico\":\n",
    "        return saudacao_basica()\n",
    "    \n",
    "    else:\n",
    "        return saudacao_avancada()\n",
    "    \n",
    "print(nivel_saudacao(\"basico\"))\n"
   ]
  },
  {
   "cell_type": "code",
   "execution_count": 6,
   "metadata": {},
   "outputs": [
    {
     "name": "stdout",
     "output_type": "stream",
     "text": [
      "1.0\n"
     ]
    }
   ],
   "source": [
    "def adicionar(*dados):\n",
    "    return sum(dados)\n",
    "def subtrair(a, b):\n",
    "    return (a-b)\n",
    "def dividir(a, b):\n",
    "    return (a / b)\n",
    "op = str(input(\"Qual operação você quer fazer? [Adição / Subtração / Divisão] \"))\n",
    "if op in (\"Adição\", \"adição\"):\n",
    "    numeros = list(map(int, input(\"Quais os números, dando um espaço entre eles! \").split(\" \")))\n",
    "    print(adicionar(*numeros))\n",
    "    \n",
    "else:\n",
    "    n1 = int(input(\"Digite o primeiro número: \"))\n",
    "    n2 = int(input(\"Digite o segundo número: \"))\n",
    "if op == (\"subtração\"):\n",
    "    print(subtrair(n1, n2))\n",
    "elif op == (\"divisão\"):\n",
    "    print(dividir(n1, n2))\n"
   ]
  }
 ],
 "metadata": {
  "kernelspec": {
   "display_name": "Python 3",
   "language": "python",
   "name": "python3"
  },
  "language_info": {
   "codemirror_mode": {
    "name": "ipython",
    "version": 3
   },
   "file_extension": ".py",
   "mimetype": "text/x-python",
   "name": "python",
   "nbconvert_exporter": "python",
   "pygments_lexer": "ipython3",
   "version": "3.11.9"
  }
 },
 "nbformat": 4,
 "nbformat_minor": 2
}
